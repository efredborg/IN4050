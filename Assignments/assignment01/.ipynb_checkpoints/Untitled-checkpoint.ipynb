{
 "cells": [
  {
   "cell_type": "code",
   "execution_count": 47,
   "id": "written-encyclopedia",
   "metadata": {},
   "outputs": [],
   "source": [
    "import csv\n",
    "import numpy as np"
   ]
  },
  {
   "cell_type": "code",
   "execution_count": 85,
   "id": "massive-store",
   "metadata": {},
   "outputs": [],
   "source": [
    "city_indx = {}\n",
    "cities = []\n",
    "dist_chart = np.zeros((24, 24))\n",
    "with open('european_cities.csv') as csv_file:\n",
    "    csv_reader = csv.reader(csv_file, delimiter=';')\n",
    "    j = 0\n",
    "    for row in csv_reader:\n",
    "        if j == 0:\n",
    "            \n",
    "            for i in range(len(row)):\n",
    "                city_indx[row[i]] = i\n",
    "                cities.append(row[i])\n",
    "            j+=1\n",
    "            cities.append(cities[0])\n",
    "        else:\n",
    "            dist_chart[j-1,:] = row\n",
    "            j += 1\n",
    "    "
   ]
  },
  {
   "cell_type": "code",
   "execution_count": 92,
   "id": "patent-landing",
   "metadata": {},
   "outputs": [
    {
     "name": "stdout",
     "output_type": "stream",
     "text": [
      "[[   0.   1528.13 1497.61 1062.89 1968.42]\n",
      " [1528.13    0.    999.25 1372.59  447.34]\n",
      " [1497.61  999.25    0.    651.62 1293.4 ]\n",
      " [1062.89 1372.59  651.62    0.   1769.69]\n",
      " [1968.42  447.34 1293.4  1769.69    0.  ]]\n",
      "1062.89\n"
     ]
    }
   ],
   "source": [
    "print(dist_chart[:5,:5])\n",
    "print(dist_chart[city_indx[cities[3]], city_indx[cities[0]]])"
   ]
  },
  {
   "cell_type": "code",
   "execution_count": 109,
   "id": "interpreted-infrastructure",
   "metadata": {},
   "outputs": [
    {
     "name": "stdout",
     "output_type": "stream",
     "text": [
      "Total travelling distance = 33118.98 km \n"
     ]
    }
   ],
   "source": [
    "def travel_dist(path):\n",
    "    steps = int(len(path)-1)\n",
    "    dist = 0\n",
    "    for i in range(steps):\n",
    "        indxs = [city_indx[cities[i]], city_indx[cities[i+1]]]\n",
    "        trip = dist_chart[indxs[0],indxs[1]]\n",
    "        dist += trip\n",
    "    print(f'Total travelling distance = {dist} km ' )\n",
    "    return dist\n",
    "travel_dist(cities);\n"
   ]
  },
  {
   "cell_type": "code",
   "execution_count": 75,
   "id": "racial-savage",
   "metadata": {},
   "outputs": [
    {
     "name": "stdout",
     "output_type": "stream",
     "text": [
      "😀\n"
     ]
    }
   ],
   "source": []
  },
  {
   "cell_type": "code",
   "execution_count": null,
   "id": "studied-going",
   "metadata": {},
   "outputs": [],
   "source": []
  }
 ],
 "metadata": {
  "kernelspec": {
   "display_name": "Python 3",
   "language": "python",
   "name": "python3"
  },
  "language_info": {
   "codemirror_mode": {
    "name": "ipython",
    "version": 3
   },
   "file_extension": ".py",
   "mimetype": "text/x-python",
   "name": "python",
   "nbconvert_exporter": "python",
   "pygments_lexer": "ipython3",
   "version": "3.7.9"
  }
 },
 "nbformat": 4,
 "nbformat_minor": 5
}
