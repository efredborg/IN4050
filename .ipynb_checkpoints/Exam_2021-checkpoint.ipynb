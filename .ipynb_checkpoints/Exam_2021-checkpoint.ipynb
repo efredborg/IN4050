{
 "cells": [
  {
   "cell_type": "markdown",
   "id": "a9895b1e-0f26-4d7e-b38b-a04a56d8132a",
   "metadata": {},
   "source": [
    "# IN 4050 exam, 31.5.2021"
   ]
  },
  {
   "cell_type": "code",
   "execution_count": 93,
   "id": "ad691768-322c-45a5-8fdf-4a35d3be5d98",
   "metadata": {},
   "outputs": [
    {
     "name": "stdout",
     "output_type": "stream",
     "text": [
      "hidden layer\n",
      "[0.00000000e+00 0.00000000e+00 1.11022302e-16]\n",
      "error=  2.0\n",
      "before update\n",
      "[[0.1 0.2 0.3]\n",
      " [0.4 0.5 0.6]\n",
      " [0.7 0.8 0.9]]\n",
      "[-1. -1.  2.  3.]\n",
      "after update\n",
      "[[0.15 0.1  0.15]\n",
      " [0.3  0.7  0.9 ]\n",
      " [0.75 0.7  0.75]]\n",
      "[-1.2 -0.9  2.1  3.1]\n"
     ]
    }
   ],
   "source": [
    "import numpy as np\n",
    "from numpy import newaxis as nax\n",
    "\n",
    "def logistic(x):\n",
    "    return 1/(1+np.exp(-x))\n",
    "\n",
    "w1 = np.arange(1,10).reshape([3,3])*0.1\n",
    "w2 = np.array((-1.0, -1.0, 2.0, 3.0))\n",
    "eta = 0.1\n",
    "\n",
    "x = np.array((-1, 2, -1))\n",
    "\n",
    "h = x @ w1\n",
    "a = logistic(h)\n",
    "print('hidden layer')\n",
    "print(h)\n",
    "\n",
    "a_biased = np.concatenate([np.array([-1]), a])\n",
    "\n",
    "out = a_biased @ w2\n",
    "out\n",
    "\n",
    "target = 5.0\n",
    "out_error = target - out\n",
    "print('error= ', out_error)\n",
    "\n",
    "delta_back = W * out_error\n",
    "hidden_deltas = delta_back[1:] * a * (1-a)\n",
    "\n",
    "print('before update')\n",
    "print(w1)\n",
    "print(w2)\n",
    "w2 += eta * out_error * a_biased\n",
    "w1 += eta*x[:,nax] @ hidden_deltas[nax,:]\n",
    "print('after update')\n",
    "print(w1)\n",
    "print(w2)"
   ]
  },
  {
   "cell_type": "code",
   "execution_count": null,
   "id": "8186ff77-1d64-423e-952d-c24af2bc23ed",
   "metadata": {},
   "outputs": [],
   "source": []
  },
  {
   "cell_type": "code",
   "execution_count": null,
   "id": "9b666450-1b21-4902-b2be-b3e7d7a829b7",
   "metadata": {},
   "outputs": [],
   "source": []
  }
 ],
 "metadata": {
  "kernelspec": {
   "display_name": "Python 3",
   "language": "python",
   "name": "python3"
  },
  "language_info": {
   "codemirror_mode": {
    "name": "ipython",
    "version": 3
   },
   "file_extension": ".py",
   "mimetype": "text/x-python",
   "name": "python",
   "nbconvert_exporter": "python",
   "pygments_lexer": "ipython3",
   "version": "3.8.8"
  }
 },
 "nbformat": 4,
 "nbformat_minor": 5
}
