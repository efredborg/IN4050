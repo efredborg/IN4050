{
 "cells": [
  {
   "cell_type": "markdown",
   "metadata": {},
   "source": [
    "# IN3050/IN4050 2021: Week 06 Perceptron\n",
    "### Introduction\n",
    "The goal of this week is to get familiar with the perceptron classifier.\n",
    "We will first consider some \"paper-and-pencil\" exercises to get more familiar with the algorithm, before we consider an implementation."
   ]
  },
  {
   "cell_type": "markdown",
   "metadata": {},
   "source": [
    "## Part 1: Paper and Pencil"
   ]
  },
  {
   "cell_type": "markdown",
   "metadata": {},
   "source": [
    "### Exercise I\n",
    "You want to predict if movies will be profitable based on their screenplays. You hire two critics A and B to read a script you have and rate it on a scale of 1 to 6. The critics are not perfect; here are five data points including the critics' scores and the performance of the movie:\n",
    "```\n",
    "| Movie # | Alice    | Bob       | Profitable? |\n",
    "|  _______|__________|___________|_____________|\n",
    "|  1      | 1        | 1         |      no     |\n",
    "|  _______|__________|___________|_____________|\n",
    "|  2      | 4        | 3         |      yes    |\n",
    "|  _______|__________|___________|_____________|\n",
    "|  3      | 3        | 5         |      yes    |\n",
    "|  _______|__________|___________|_____________|\n",
    "|  4      | 5        | 6         |      yes    |\n",
    "|  _______|__________|___________|_____________|\n",
    "|  5      | 2        | 3         |      no     |\n",
    "|  _______|__________|___________|_____________|\n",
    "```\n",
    "Is the data linearily separable? Plot the data on the 2D plane below; label profitable movies with + and non-profitable movies with x and determine if the data are linearily separable."
   ]
  },
  {
   "cell_type": "markdown",
   "metadata": {},
   "source": [
    "#### Solution\n",
    "Yes\n",
    "\n",
    "Plot by hand - fastest, or implement."
   ]
  },
  {
   "cell_type": "code",
   "execution_count": 1,
   "metadata": {},
   "outputs": [],
   "source": [
    "import numpy as np\n",
    "import matplotlib.pyplot as plt\n",
    "import sklearn"
   ]
  },
  {
   "cell_type": "code",
   "execution_count": 2,
   "metadata": {},
   "outputs": [
    {
     "data": {
      "text/plain": [
       "<matplotlib.legend.Legend at 0x7f0bc4cd7e90>"
      ]
     },
     "execution_count": 2,
     "metadata": {},
     "output_type": "execute_result"
    },
    {
     "data": {
      "image/png": "[encoded data removed]",
      "text/plain": [
       "<Figure size 432x288 with 1 Axes>"
      ]
     },
     "metadata": {
      "needs_background": "light"
     },
     "output_type": "display_data"
    }
   ],
   "source": [
    "X4 = [(1,1), (4,3), (3,5), (5,6), (2,3)]\n",
    "y4 = [0, 1, 1, 1, 0]\n",
    "cl = {0:[], 1:[]}\n",
    "for (a, b) in zip(X4, y4):\n",
    "    cl[b].append(a)\n",
    "plt.plot([a[0] for a in cl[1]], [a[1] for a in cl[1]], '+', label=\"class 1\")\n",
    "plt.plot([a[0] for a in cl[0]], [a[1] for a in cl[0]], 'x', label=\"class 0\")\n",
    "plt.legend()"
   ]
  },
  {
   "cell_type": "markdown",
   "metadata": {},
   "source": [
    "#### End of solution"
   ]
  },
  {
   "cell_type": "markdown",
   "metadata": {},
   "source": [
    "### Exercise II\n",
    "\n",
    "Now you decide to use a perceptron to classify your data. Suppose you directly use the scores given above as features, together with a bias feature. That is $f_0=1$, $f_1=$ score given by A and $f_2=$ score given by B.\n",
    "\n",
    "Run one pass through the data with the perceptron algorithm, filling out the table below. Go through the data points in order, e.g., using data point 0 at step 1. For each of the 5 steps write the current state of the weights, the score, and whether the prediction is correct.\n",
    "\n",
    "```\n",
    "| Step | Weights    | Score                   | Correct predicition? |\n",
    "_______|____________|_________________________|______________________|\n",
    "|  1   | (-1, 0, 0) | -1*1 + 0*1 + 0 * 1 = -1 |      yes             |\n",
    "_______|____________|_________________________|______________________|\n",
    "|  2   |            |                         |                      |\n",
    "_______|____________|_________________________|______________________|\n",
    "|  3   |            |                         |                      |\n",
    "_______|____________|_________________________|______________________|\n",
    "|  4   |            |                         |                      |\n",
    "_______|____________|_________________________|______________________|\n",
    "|  5   |            |                         |                      |\n",
    "_______|____________|_________________________|______________________|\n",
    "\n",
    "```"
   ]
  },
  {
   "cell_type": "markdown",
   "metadata": {},
   "source": [
    "#### Solution\n",
    "Answer: calculate the prediction on every point. Compare result to implementation towards the end of this notebook.\n",
    "#### End of solution"
   ]
  },
  {
   "cell_type": "markdown",
   "metadata": {},
   "source": [
    "### Exercise III\n",
    " Have weights been learned that separate the data?"
   ]
  },
  {
   "cell_type": "markdown",
   "metadata": {},
   "source": [
    "#### Solution\n",
    "YES\n",
    "\n",
    "Compare result to implementation towards the end of this notebook.\n",
    "#### End of solution"
   ]
  },
  {
   "cell_type": "markdown",
   "metadata": {},
   "source": [
    "### Exercise IV\n",
    "More generally, irrespective of the training data, you want to know if your features are powerful enough to allow you to handle a range of scenarios. Which of the following scenarios can a perceptron using the features above  indeed perfectly classify movies which are profitable according to the given rules:\n",
    "\n",
    "1. Your reviewers are awesome: if the total of their scores is more than 8, then the movie will definitely be profitable, and otherwise it won't be.\n",
    "\n",
    "2. Your reviewers are art critics. Your movie will be profitable if and only if each reviewer gives either a score of 3 or a score of 4.\n",
    "\n",
    "3. Your reviewers have weird but different tastes. Your movie will be profitable if and only if both reviewers agree."
   ]
  },
  {
   "cell_type": "markdown",
   "metadata": {},
   "source": [
    "#### Solutions\n",
    "\n",
    "1. Can classify (consider weights)\n",
    "2. Cannot classify\n",
    "3. Cannot classify\n",
    "\n",
    "#### End of solution"
   ]
  },
  {
   "cell_type": "markdown",
   "metadata": {},
   "source": [
    "## Part 2: Implementing the Perceptron Classifier"
   ]
  },
  {
   "cell_type": "markdown",
   "metadata": {},
   "source": [
    "### Exercise V\n",
    "We will use the same framework as for the *k*NN-classifier. You should implement the two methods `fit` and `predict`. You don't need a `__init__` method. You may include other methods if you find it convenient.\n",
    "\n",
    "The main part of the perceptron classifier is the `fit` method that trains the perceptron.\n",
    "`eta` is the learning rate\n",
    "One `epoch` is a run through all the training data.\n",
    "We have set the default to one epoch, but you might need more.\n",
    "Remember to add the bias to the data."
   ]
  },
  {
   "cell_type": "code",
   "execution_count": 3,
   "metadata": {},
   "outputs": [],
   "source": [
    "class PyClassifier():\n",
    "    \"\"\"Common methods to all python classifiers --- if any\n",
    "    \n",
    "    Nothing here yet\"\"\""
   ]
  },
  {
   "cell_type": "code",
   "execution_count": 4,
   "metadata": {},
   "outputs": [],
   "source": [
    "class PyPerClassifier(PyClassifier):\n",
    "    \"\"\"Simple perceptron python classifier\"\"\"\n",
    "    \n",
    "    def fit(self, X_train, y_train, eta=1, epochs=1):\n",
    "        \"\"\"Train the self.weights on the training data with learning\n",
    "        rate eta, running epochs many epochs\"\"\"\n",
    "        \n",
    "    \n",
    "    def predict(self, x):\n",
    "        \"\"\"Predict the value for the item x\"\"\"\n"
   ]
  },
  {
   "cell_type": "markdown",
   "metadata": {},
   "source": [
    "#### Solution"
   ]
  },
  {
   "cell_type": "code",
   "execution_count": 5,
   "metadata": {},
   "outputs": [],
   "source": [
    "class PyClassifier():\n",
    "    \"\"\"Common methods to all python classifiers --- if any\"\"\"\n",
    "    \n",
    "    def accuracy(self,X_test, y_test, **kwargs):\n",
    "        \"\"\"Calculate the accuracy of the classifier \n",
    "        using the predict method\"\"\"\n",
    "        predicted = [self.predict(a, **kwargs) for a in X_test]\n",
    "        equal = len([(p, g) for (p,g) in zip(predicted, y_test) if p==g])\n",
    "        return equal / len(y_test)"
   ]
  },
  {
   "cell_type": "code",
   "execution_count": 6,
   "metadata": {},
   "outputs": [],
   "source": [
    "class PyPerClassifier(PyClassifier):\n",
    "    \"\"\"Simple perceptron python classifier\"\"\"\n",
    "    \n",
    "    def fit(self, X_train, y_train, eta=1, epochs=1):\n",
    "        \"\"\"Train the self.weights on the training data with learning\n",
    "        rate eta, running epochs many epochs\"\"\"\n",
    "        X_train = [[1]+list(x) for x in X_train] # Put bias in position 0      \n",
    "        self.dim = dim = len(X_train[0])\n",
    "        self.weights = weights = [0 for _ in range(dim)]\n",
    "        # Initialize all weights to 0. There are better ways!\n",
    "\n",
    "        for e in range(epochs):\n",
    "            for x, t in zip(X_train, y_train):\n",
    "                y = int(self.forward(x)>0)\n",
    "                for i in range(dim):\n",
    "                    weights[i] -= eta * (y - t) * x[i]\n",
    "        \n",
    "    def forward(self, x):\n",
    "        \"\"\"Calculate the score for the item x\"\"\"\n",
    "        score = sum([self.weights[i]*x[i] for i in range(self.dim)])\n",
    "        return score       \n",
    "    \n",
    "    def predict(self, x):\n",
    "        \"\"\"Predict the value for the item x\"\"\"\n",
    "        x = [1] + list(x)\n",
    "        score = self.forward(x)\n",
    "        return int(score > 0)"
   ]
  },
  {
   "cell_type": "markdown",
   "metadata": {},
   "source": [
    "#### End of solution"
   ]
  },
  {
   "cell_type": "markdown",
   "metadata": {},
   "source": [
    "## Dataset\n",
    "We will train and test the classifier on the same sythetic dataset as we used for the *k*NN last week."
   ]
  },
  {
   "cell_type": "code",
   "execution_count": 7,
   "metadata": {},
   "outputs": [],
   "source": [
    "from sklearn.datasets import make_blobs\n",
    "X_np, y_np = make_blobs(n_samples=200, centers=[[0,0],[1,2]], \n",
    "                  n_features=2, random_state=2019)\n",
    "X1 = [(X_np[i,0], X_np[i,1]) for i in range(X_np.shape[0])]\n",
    "y1 = [y_np[i] for i in range(X_np.shape[0])]"
   ]
  },
  {
   "cell_type": "code",
   "execution_count": 8,
   "metadata": {},
   "outputs": [],
   "source": [
    "X_np, y_np = make_blobs(n_samples=200, centers=[[0,0],[1,2]], \n",
    "                  n_features=2, random_state=2020)\n",
    "X2 = [(X_np[i,0], X_np[i,1]) for i in range(X_np.shape[0])]\n",
    "y2 = [y_np[i] for i in range(X_np.shape[0])]"
   ]
  },
  {
   "cell_type": "markdown",
   "metadata": {},
   "source": [
    "### Exercise VI\n",
    "Train PyPerClassifier_on1  X1, y1 and test on X2, y2 as with the *k*NN-classifier. Try various numbers of epochs and see whether it makes a difference.\n",
    "\n",
    "Is X2, y2 linearly separable?"
   ]
  },
  {
   "cell_type": "markdown",
   "metadata": {},
   "source": [
    "#### Solution"
   ]
  },
  {
   "cell_type": "code",
   "execution_count": 9,
   "metadata": {},
   "outputs": [
    {
     "name": "stdout",
     "output_type": "stream",
     "text": [
      "Accuracy after  1 epochs, test:  0.835\n",
      "Accuracy after  2 epochs, test:  0.840\n",
      "Accuracy after  3 epochs, test:  0.815\n",
      "Accuracy after  4 epochs, test:  0.835\n",
      "Accuracy after  5 epochs, test:  0.835\n",
      "Accuracy after  6 epochs, test:  0.815\n",
      "Accuracy after  7 epochs, test:  0.825\n",
      "Accuracy after  8 epochs, test:  0.825\n",
      "Accuracy after  9 epochs, test:  0.825\n",
      "Accuracy after 10 epochs, test:  0.825\n",
      "Accuracy after 11 epochs, test:  0.825\n",
      "Accuracy after 12 epochs, test:  0.820\n",
      "Accuracy after 13 epochs, test:  0.830\n",
      "Accuracy after 14 epochs, test:  0.825\n",
      "Accuracy after 15 epochs, test:  0.820\n",
      "Accuracy after 16 epochs, test:  0.820\n",
      "Accuracy after 17 epochs, test:  0.815\n",
      "Accuracy after 18 epochs, test:  0.825\n",
      "Accuracy after 19 epochs, test:  0.805\n"
     ]
    }
   ],
   "source": [
    "for i in range(1,20):\n",
    "    cl = PyPerClassifier()\n",
    "    cl.fit(X1, y1, eta= 0.1, epochs = i)\n",
    "    test = cl.accuracy(X2, y2)\n",
    "    print(\"Accuracy after {:2} epochs, test: {:6.3f}\".format(\n",
    "    i, test))"
   ]
  },
  {
   "cell_type": "markdown",
   "metadata": {},
   "source": [
    "#### End of solution"
   ]
  },
  {
   "cell_type": "markdown",
   "metadata": {},
   "source": [
    "### Exercise VII: Termination and Weights\n",
    "- Extend the *PyPerClassifier()* with a method such that we can inspect the weights after training  is completed.\n",
    "- Modify the *fit*-method of the classifier such that training halts when there are no more updates, and it is possible to inspect how many epochs it took.\n",
    "- Run this on the five points film critics dataset. How many epochs does it take to reach completion?\n",
    "- What are the final weights? Can you plot the decision border that corresponds to these weights together with the data set?"
   ]
  },
  {
   "cell_type": "markdown",
   "metadata": {},
   "source": [
    "### Solution"
   ]
  },
  {
   "cell_type": "code",
   "execution_count": 10,
   "metadata": {},
   "outputs": [],
   "source": [
    "class PyPerClassifier_6(PyClassifier):\n",
    "    \"\"\"Simple perceptron python classifier\n",
    "    \n",
    "    Stop on convergence.\n",
    "    Three levels of tracing, trace = 1, 2 or 3.\"\"\"\n",
    "    \n",
    "    def fit(self, X_train, y_train, eta=1, epochs=1,\n",
    "                trace = False):\n",
    "        X_train = [[1]+list(x) for x in X_train] # Put bias in position 0      \n",
    "        self.dim = dim = len(X_train[0])\n",
    "        self.weights = weights = [0 for _ in range(dim)]\n",
    "        # Initialize all weights to 0. There are better ways!\n",
    "\n",
    "        e = 0\n",
    "        converged = False\n",
    "        updated = 0\n",
    "        while e < epochs and not converged:\n",
    "            converged = True\n",
    "            e += 1\n",
    "            \n",
    "            if trace >= 2:\n",
    "                print(\"Epoch no: \", e)\n",
    "                \n",
    "            for x, t in zip(X_train, y_train):\n",
    "                y = int(self.forward(x)>0)\n",
    "                for i in range(dim):\n",
    "                    weights[i] += eta * (t - y) * x[i]\n",
    "                    \n",
    "                if y != t: \n",
    "                    updated += 1\n",
    "                    converged = False\n",
    "                    \n",
    "                if (trace == 2 and y != t) or trace == 3 :\n",
    "                    print(\"x: {}, t: {}, y: {}  \".format(x,t,y), end=\" \")\n",
    "                    print(\"Weights:\", end = \" \")\n",
    "                    for w in weights:\n",
    "                        print(\"{:7.3f}, \".format(w), end = '')\n",
    "                    print('')\n",
    "\n",
    "        if trace:\n",
    "            if converged:\n",
    "                print(\"Training completed with convergence\")\n",
    "            else:\n",
    "                print(\"Training completed without convergence\")\n",
    "            print(\"Number of epochs: {}, number of updates: {}\". format(\n",
    "                e, updated))\n",
    "        \n",
    "    def forward(self, x):\n",
    "        score = sum([self.weights[i]*x[i] for i in range(self.dim)])\n",
    "        return score       \n",
    "    \n",
    "    def predict(self, x):\n",
    "        x = [1] + list(x)\n",
    "        score = self.forward(x)\n",
    "        return int(score > 0)"
   ]
  },
  {
   "cell_type": "code",
   "execution_count": 11,
   "metadata": {},
   "outputs": [
    {
     "name": "stdout",
     "output_type": "stream",
     "text": [
      "Epoch no:  1\n",
      "x: [1, 1, 1], t: 0, y: 0   Weights:   0.000,   0.000,   0.000, \n",
      "x: [1, 4, 3], t: 1, y: 0   Weights:   1.000,   4.000,   3.000, \n",
      "x: [1, 3, 5], t: 1, y: 1   Weights:   1.000,   4.000,   3.000, \n",
      "x: [1, 5, 6], t: 1, y: 1   Weights:   1.000,   4.000,   3.000, \n",
      "x: [1, 2, 3], t: 0, y: 1   Weights:   0.000,   2.000,   0.000, \n",
      "Epoch no:  2\n",
      "x: [1, 1, 1], t: 0, y: 1   Weights:  -1.000,   1.000,  -1.000, \n",
      "x: [1, 4, 3], t: 1, y: 0   Weights:   0.000,   5.000,   2.000, \n",
      "x: [1, 3, 5], t: 1, y: 1   Weights:   0.000,   5.000,   2.000, \n",
      "x: [1, 5, 6], t: 1, y: 1   Weights:   0.000,   5.000,   2.000, \n",
      "x: [1, 2, 3], t: 0, y: 1   Weights:  -1.000,   3.000,  -1.000, \n",
      "Epoch no:  3\n",
      "x: [1, 1, 1], t: 0, y: 1   Weights:  -2.000,   2.000,  -2.000, \n",
      "x: [1, 4, 3], t: 1, y: 0   Weights:  -1.000,   6.000,   1.000, \n",
      "x: [1, 3, 5], t: 1, y: 1   Weights:  -1.000,   6.000,   1.000, \n",
      "x: [1, 5, 6], t: 1, y: 1   Weights:  -1.000,   6.000,   1.000, \n",
      "x: [1, 2, 3], t: 0, y: 1   Weights:  -2.000,   4.000,  -2.000, \n",
      "Epoch no:  4\n",
      "x: [1, 1, 1], t: 0, y: 0   Weights:  -2.000,   4.000,  -2.000, \n",
      "x: [1, 4, 3], t: 1, y: 1   Weights:  -2.000,   4.000,  -2.000, \n",
      "x: [1, 3, 5], t: 1, y: 0   Weights:  -1.000,   7.000,   3.000, \n",
      "x: [1, 5, 6], t: 1, y: 1   Weights:  -1.000,   7.000,   3.000, \n",
      "x: [1, 2, 3], t: 0, y: 1   Weights:  -2.000,   5.000,   0.000, \n",
      "Epoch no:  5\n",
      "x: [1, 1, 1], t: 0, y: 1   Weights:  -3.000,   4.000,  -1.000, \n",
      "x: [1, 4, 3], t: 1, y: 1   Weights:  -3.000,   4.000,  -1.000, \n",
      "x: [1, 3, 5], t: 1, y: 1   Weights:  -3.000,   4.000,  -1.000, \n",
      "x: [1, 5, 6], t: 1, y: 1   Weights:  -3.000,   4.000,  -1.000, \n",
      "x: [1, 2, 3], t: 0, y: 1   Weights:  -4.000,   2.000,  -4.000, \n",
      "Epoch no:  6\n",
      "x: [1, 1, 1], t: 0, y: 0   Weights:  -4.000,   2.000,  -4.000, \n",
      "x: [1, 4, 3], t: 1, y: 0   Weights:  -3.000,   6.000,  -1.000, \n",
      "x: [1, 3, 5], t: 1, y: 1   Weights:  -3.000,   6.000,  -1.000, \n",
      "x: [1, 5, 6], t: 1, y: 1   Weights:  -3.000,   6.000,  -1.000, \n",
      "x: [1, 2, 3], t: 0, y: 1   Weights:  -4.000,   4.000,  -4.000, \n",
      "Epoch no:  7\n",
      "x: [1, 1, 1], t: 0, y: 0   Weights:  -4.000,   4.000,  -4.000, \n",
      "x: [1, 4, 3], t: 1, y: 0   Weights:  -3.000,   8.000,  -1.000, \n",
      "x: [1, 3, 5], t: 1, y: 1   Weights:  -3.000,   8.000,  -1.000, \n",
      "x: [1, 5, 6], t: 1, y: 1   Weights:  -3.000,   8.000,  -1.000, \n",
      "x: [1, 2, 3], t: 0, y: 1   Weights:  -4.000,   6.000,  -4.000, \n",
      "Epoch no:  8\n",
      "x: [1, 1, 1], t: 0, y: 0   Weights:  -4.000,   6.000,  -4.000, \n",
      "x: [1, 4, 3], t: 1, y: 1   Weights:  -4.000,   6.000,  -4.000, \n",
      "x: [1, 3, 5], t: 1, y: 0   Weights:  -3.000,   9.000,   1.000, \n",
      "x: [1, 5, 6], t: 1, y: 1   Weights:  -3.000,   9.000,   1.000, \n",
      "x: [1, 2, 3], t: 0, y: 1   Weights:  -4.000,   7.000,  -2.000, \n",
      "Epoch no:  9\n",
      "x: [1, 1, 1], t: 0, y: 1   Weights:  -5.000,   6.000,  -3.000, \n",
      "x: [1, 4, 3], t: 1, y: 1   Weights:  -5.000,   6.000,  -3.000, \n",
      "x: [1, 3, 5], t: 1, y: 0   Weights:  -4.000,   9.000,   2.000, \n",
      "x: [1, 5, 6], t: 1, y: 1   Weights:  -4.000,   9.000,   2.000, \n",
      "x: [1, 2, 3], t: 0, y: 1   Weights:  -5.000,   7.000,  -1.000, \n",
      "Epoch no:  10\n",
      "x: [1, 1, 1], t: 0, y: 1   Weights:  -6.000,   6.000,  -2.000, \n",
      "x: [1, 4, 3], t: 1, y: 1   Weights:  -6.000,   6.000,  -2.000, \n",
      "x: [1, 3, 5], t: 1, y: 1   Weights:  -6.000,   6.000,  -2.000, \n",
      "x: [1, 5, 6], t: 1, y: 1   Weights:  -6.000,   6.000,  -2.000, \n",
      "x: [1, 2, 3], t: 0, y: 0   Weights:  -6.000,   6.000,  -2.000, \n",
      "Epoch no:  11\n",
      "x: [1, 1, 1], t: 0, y: 0   Weights:  -6.000,   6.000,  -2.000, \n",
      "x: [1, 4, 3], t: 1, y: 1   Weights:  -6.000,   6.000,  -2.000, \n",
      "x: [1, 3, 5], t: 1, y: 1   Weights:  -6.000,   6.000,  -2.000, \n",
      "x: [1, 5, 6], t: 1, y: 1   Weights:  -6.000,   6.000,  -2.000, \n",
      "x: [1, 2, 3], t: 0, y: 0   Weights:  -6.000,   6.000,  -2.000, \n",
      "Training completed with convergence\n",
      "Number of epochs: 11, number of updates: 22\n"
     ]
    }
   ],
   "source": [
    "clf = PyPerClassifier_6()\n",
    "clf.fit(X4, y4, epochs=100, trace=3)"
   ]
  },
  {
   "cell_type": "markdown",
   "metadata": {},
   "source": [
    "Observe that the  decsion boundary is given by\n",
    "$w_0x_0 + w_1x_1 + w_2x_2 = -6 + 6x_1 -2x_2=0$.\n",
    "This can be refomulated as $x_2=3x_1 -3$.\n",
    "Observe that one point, $(2,3)$ ends up at the decision boundary. \n",
    "The forward value at this point is $0$.\n",
    "Hence the point is classified into class 0."
   ]
  },
  {
   "cell_type": "code",
   "execution_count": 12,
   "metadata": {},
   "outputs": [
    {
     "data": {
      "text/plain": [
       "<matplotlib.legend.Legend at 0x7f0bc43d7310>"
      ]
     },
     "execution_count": 12,
     "metadata": {},
     "output_type": "execute_result"
    },
    {
     "data": {
      "image/png": "[encoded data removed]",
      "text/plain": [
       "<Figure size 432x288 with 1 Axes>"
      ]
     },
     "metadata": {
      "needs_background": "light"
     },
     "output_type": "display_data"
    }
   ],
   "source": [
    "cl = {0:[], 1:[]}\n",
    "for (a, b) in zip(X4, y4):\n",
    "    cl[b].append(a)\n",
    "plt.plot([a[0] for a in cl[1]], [a[1] for a in cl[1]], '+', label=\"class 1\")\n",
    "plt.plot([a[0] for a in cl[0]], [a[1] for a in cl[0]], 'x', label=\"class 0\")\n",
    "x1 = np.linspace(0, 5, 100)\n",
    "x2 = 3*x1 - 3\n",
    "plt.plot(x1, x2)\n",
    "plt.legend()"
   ]
  }
 ],
 "metadata": {
  "kernelspec": {
   "display_name": "Python 3",
   "language": "python",
   "name": "python3"
  },
  "language_info": {
   "codemirror_mode": {
    "name": "ipython",
    "version": 3
   },
   "file_extension": ".py",
   "mimetype": "text/x-python",
   "name": "python",
   "nbconvert_exporter": "python",
   "pygments_lexer": "ipython3",
   "version": "3.7.9"
  }
 },
 "nbformat": 4,
 "nbformat_minor": 2
}
