{
 "cells": [
  {
   "cell_type": "code",
   "execution_count": 2,
   "id": "hollow-summit",
   "metadata": {},
   "outputs": [],
   "source": [
    "import numpy as np\n",
    "import matplotlib.pyplot as plt"
   ]
  },
  {
   "cell_type": "markdown",
   "id": "experimental-empty",
   "metadata": {},
   "source": [
    "### Simulated annealing (6p)\n",
    "\n",
    "a) simulated annealing at very low temperature will be almost only exploitation, ergo similar to hill climbing.\n",
    "\n",
    "b) Holding the temperature very high will cause a lot of randomness and therefore not settle in the optimal areas in the landskape. This is similar to random search/exhaustive search"
   ]
  },
  {
   "cell_type": "markdown",
   "id": "conscious-taiwan",
   "metadata": {},
   "source": [
    "### Master student's only: search (5p)\n",
    "To impove a hill climbers chances of finding the global optimum I would initial the search in multiple random places making it more probable that one of the optima found is the global optimum. "
   ]
  },
  {
   "cell_type": "markdown",
   "id": "wanted-tamil",
   "metadata": {},
   "source": [
    "### Pareto optimality (9p)\n",
    "\n",
    "a) Solutions on the Pareto optimal set have to be non-dominated. That is, no other solutions should be better according to both objectives. "
   ]
  },
  {
   "cell_type": "markdown",
   "id": "controversial-turkish",
   "metadata": {},
   "source": [
    "### Perceptron and linear regression classifier\n"
   ]
  },
  {
   "cell_type": "code",
   "execution_count": null,
   "id": "confused-chocolate",
   "metadata": {},
   "outputs": [],
   "source": []
  }
 ],
 "metadata": {
  "kernelspec": {
   "display_name": "Python 3",
   "language": "python",
   "name": "python3"
  },
  "language_info": {
   "codemirror_mode": {
    "name": "ipython",
    "version": 3
   },
   "file_extension": ".py",
   "mimetype": "text/x-python",
   "name": "python",
   "nbconvert_exporter": "python",
   "pygments_lexer": "ipython3",
   "version": "3.8.3"
  }
 },
 "nbformat": 4,
 "nbformat_minor": 5
}
