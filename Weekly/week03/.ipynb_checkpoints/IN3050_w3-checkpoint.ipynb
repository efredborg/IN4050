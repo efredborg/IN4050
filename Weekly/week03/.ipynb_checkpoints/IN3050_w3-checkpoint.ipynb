{
 "cells": [
  {
   "cell_type": "markdown",
   "metadata": {},
   "source": [
    "# IN3050/IN4050 - Week 3\n",
    "## Representations"
   ]
  },
  {
   "cell_type": "markdown",
   "metadata": {},
   "source": [
    "### 1. ![Naming_Question](EA_Terms.png)"
   ]
  },
  {
   "cell_type": "markdown",
   "metadata": {},
   "source": [
    "Name the terms shown in the picture above."
   ]
  },
  {
   "cell_type": "code",
   "execution_count": 1,
   "metadata": {},
   "outputs": [],
   "source": [
    "# Add your solution here\n",
    "# A: Locus\n",
    "\n",
    "# B: Allele\n",
    "\n",
    "# C: Gene\n",
    "\n",
    "# D: Genotype\n",
    "\n",
    "# E: Phenotype"
   ]
  },
  {
   "cell_type": "markdown",
   "metadata": {},
   "source": [
    "### 2. Mention some of the most common representations of genomes."
   ]
  },
  {
   "cell_type": "markdown",
   "metadata": {},
   "source": [
    "Floating points, binary number"
   ]
  },
  {
   "cell_type": "markdown",
   "metadata": {},
   "source": [
    "### 3. Perform a mutation operation on the representations given below.\n",
    "\n",
    "binary = $[1, 0, 1, 1]$;\n",
    "integer = $[4, 2, 4, 1]$;\n",
    "real_valued = $[2.53, 1.42, 3.14, 1.68]$;\n",
    "permutation = $[3, 4, 1, 2]$"
   ]
  },
  {
   "cell_type": "code",
   "execution_count": 2,
   "metadata": {},
   "outputs": [
    {
     "name": "stdout",
     "output_type": "stream",
     "text": [
      "3.0280573889303444\n",
      "3.03\n"
     ]
    }
   ],
   "source": [
    "import numpy as np\n",
    "a=2.53\n",
    "rand = np.random.normal(loc=a)\n",
    "print(rand)\n",
    "print(np.round(rand, 2))"
   ]
  },
  {
   "cell_type": "code",
   "execution_count": 3,
   "metadata": {},
   "outputs": [
    {
     "name": "stdout",
     "output_type": "stream",
     "text": [
      "Binary before: [1, 0, 1, 1]\n",
      "Binary after : [0, 0, 1, 1]\n",
      "Integer before: [4, 2, 4, 1]\n",
      "Integer after : [4, 2, 4, 2]\n",
      "Floating points before: [2.53, 1.42, 3.14, 1.68]\n",
      "Floating points after : [2.53, -0.81, 3.14, 3.24]\n"
     ]
    }
   ],
   "source": [
    "import numpy as np\n",
    "binary = [1,0,1,1]; integer = [4,2,4,1]; real_valued = [2.53,1.42,3.14,1.68]; permutation = [3,4,1,2]\n",
    "\n",
    "#mutating the binary number\n",
    "print('Binary before:', binary)\n",
    "for i in range(len(binary)):\n",
    "    if np.random.randint(2)==1: #decide to flip bit\n",
    "        if binary[i]==0:\n",
    "            binary[i]=1\n",
    "        else:\n",
    "            binary[i]=0\n",
    "print('Binary after :', binary)\n",
    "\n",
    "#mutating the integer genotype\n",
    "print('Integer before:', integer)\n",
    "for i in range(len(integer)):\n",
    "    if np.random.randint(2)==1: #decide to mutate\n",
    "        integer[i] = int(np.rint(np.random.normal(loc=integer[i])))\n",
    "print('Integer after :', integer)\n",
    "\n",
    "#mutating the floating point genotype\n",
    "print('Floating points before:', real_valued)\n",
    "for i in range(len(real_valued)):\n",
    "    if np.random.randint(2)==1: #decide to mutate\n",
    "        real_valued[i] = np.round(np.random.normal(loc=real_valued[i]), 2)\n",
    "print('Floating points after :', real_valued)\n",
    "\n",
    "\n",
    "\n",
    "\n"
   ]
  },
  {
   "cell_type": "markdown",
   "metadata": {},
   "source": [
    "## 4. Given the sequences (2,4,7,1,3,6,8,9,5) and (5,9,8,6,2,4,1,3,7). Implement these algorithms to create a new pair of solutions: "
   ]
  },
  {
   "cell_type": "markdown",
   "metadata": {},
   "source": [
    "#### a. Partially mapped crossover (PMX)"
   ]
  },
  {
   "cell_type": "code",
   "execution_count": 4,
   "metadata": {},
   "outputs": [
    {
     "name": "stdout",
     "output_type": "stream",
     "text": [
      "[4, 5, 6, 7] \n",
      " [8, 2, 6, 5]\n",
      "[0. 0. 0. 4. 5. 6. 7. 0. 0.]\n"
     ]
    }
   ],
   "source": [
    "a = np.array(([2, 4, 7, 1, 3, 6, 8, 9, 5]))\n",
    "b = np.array(([5, 9, 8, 6, 2, 4, 1, 3, 7]))\n",
    "a = [1,2,3,4,5,6,7,8,9]\n",
    "b = [9,3,7,8,2,6,5,1,4]\n",
    "c, d = np.zeros((len(a))), np.zeros((len(a)))\n",
    "indx = [3,7]\n",
    "a_clip = a[indx[0]:indx[1]]\n",
    "b_clip = b[indx[0]:indx[1]]\n",
    "c[indx[0]:indx[1]] = a[indx[0]:indx[1]]\n",
    "\n",
    "print(a_clip,'\\n', b_clip)\n",
    "for i,bi in enumerate(b_clip):\n",
    "    test = np.array((np.where(a_clip==bi)))\n",
    "    if test.shape==(1,1):\n",
    "        print(test[0,0])\n",
    "        \n",
    "print(c)\n",
    "\n",
    "\n"
   ]
  },
  {
   "cell_type": "code",
   "execution_count": 5,
   "metadata": {},
   "outputs": [],
   "source": [
    "# Add your solution here\n",
    "\n",
    "def pmx_pair(a, b):\n",
    "    def crossover(child, main_p,p2,xi): # main parent is the one who donated its slice to child i.e a if child is c\n",
    "        i1 = np.where(p2==main_p[xi+indx[0]])[0][0]\n",
    "        if i1<indx[0] or i1>indx[1]-1: # -1 because the upper index was +1 to accomodate slicing. \n",
    "            return i1\n",
    "        else:\n",
    "            val = main_p[i1]\n",
    "            i2 = np.where(p2==val)[0][0]\n",
    "            if i2<indx[0] or i2>indx[1]-1:\n",
    "                return i2\n",
    "            else:\n",
    "                val = main_p[i2]\n",
    "                i3 = np.where(p2==val)[0][0]\n",
    "                if i3<indx[0] or i3>indx[1]-1:\n",
    "                    return i3\n",
    "                else:\n",
    "                    val = main_p[i3]\n",
    "                    i4 = np.where(p2==val)[0][0]\n",
    "                    if i4<indx[0] or i4>indx[1]-1:\n",
    "                        return i4\n",
    "                    else:\n",
    "                        print('Fail!!!')\n",
    "    a = np.array((a));b = np.array((b))\n",
    "    c, d = np.zeros((len(a))), np.zeros((len(a)))\n",
    "    indx = np.sort(np.random.randint(0,len(a), size=2))\n",
    "    print('The indexes are:', indx)\n",
    "    if indx[0]==indx[1]:\n",
    "        print('The interval has no size')\n",
    "        indx=indx[0]+1\n",
    "        c[:indx] = a[:indx]; c[indx:] = b[indx:]\n",
    "        d[:indx] = b[:indx]; d[indx:] = a[indx:]\n",
    "        return c, d\n",
    "    else:\n",
    "        indx[-1] +=1 # to include the last indexed number when slicing\n",
    "        c[indx[0]:indx[1]] = a[indx[0]:indx[1]]\n",
    "        a_clip = a[indx[0]:indx[1]]\n",
    "        b_clip = b[indx[0]:indx[1]]\n",
    "        for i,bi in enumerate(b_clip): # looping over the sliced b list\n",
    "            j = np.array((np.where(a_clip==bi))) # finding if the element in b exist in the a-slice\n",
    "            if j.shape!=(1,1):\n",
    "                c[crossover(c,a,b,i)] = bi\n",
    "        g = np.where(c==0.)[0]\n",
    "        c[g[:]] = b[g[:]]\n",
    "        d[indx[0]:indx[1]] = b[indx[0]:indx[1]]\n",
    "        for j,aj in enumerate(a_clip): # looping over the sliced b list\n",
    "            i = np.array((np.where(b_clip==aj))) # finding if the element in b exist in the a-slice\n",
    "            if i.shape!=(1,1):\n",
    "                d[crossover(d,b,a,j)] = aj\n",
    "        g = np.where(d==0.)[0]\n",
    "        d[g[:]] = a[g[:]]\n",
    "        return c, d\n",
    "        \n",
    "                    \n",
    "        "
   ]
  },
  {
   "cell_type": "markdown",
   "metadata": {},
   "source": [
    "#### b. Order crossover"
   ]
  },
  {
   "cell_type": "code",
   "execution_count": 6,
   "metadata": {},
   "outputs": [],
   "source": [
    "def order_crossover_pair(a, b):\n",
    "    a = np.array((a));b = np.array((b))\n",
    "    c, d = np.zeros((len(a))), np.zeros((len(a)))\n",
    "    indx = np.sort(np.random.randint(0,len(a), size=2))\n",
    "    #indx = np.array((3,6))\n",
    "    if indx[0]==indx[1]:\n",
    "        print('The interval has no size')\n",
    "        indx=indx[0]+1\n",
    "        c[:indx] = a[:indx]; c[indx:] = b[indx:]\n",
    "        d[:indx] = b[:indx]; d[indx:] = a[indx:]\n",
    "        return c, d\n",
    "    else:\n",
    "        indx[-1] +=1 # to include the last indexed number when slicing\n",
    "        c[indx[0]:indx[1]] = a[indx[0]:indx[1]]\n",
    "        d[indx[0]:indx[1]] = b[indx[0]:indx[1]]\n",
    "        a_slice = a[indx[0]:indx[1]]\n",
    "        b_slice = b[indx[0]:indx[1]]\n",
    "        bump_c = 0\n",
    "        bump_d = 0\n",
    "        for i in range(len(a)-(indx[1]-indx[0])):\n",
    "            roll_i = -indx[1]-i\n",
    "            ai = np.roll(a,roll_i)[0]\n",
    "            bi = np.roll(b,roll_i)[0]\n",
    "            while np.array((np.where(a_slice==np.roll(b,roll_i-bump_c)[0]))).shape==(1,1):\n",
    "                bump_c+=1\n",
    "                #print('bump_c')\n",
    "                if bump_c<-(indx[1]-indx[0]):\n",
    "                    print('Fail in creating child 1')\n",
    "                    break\n",
    "            c = np.roll(c,roll_i) \n",
    "            c[0] = np.roll(b,roll_i-bump_c)[0]\n",
    "            c = np.roll(c,-roll_i)\n",
    "            \n",
    "            while np.array((np.where(b_slice==np.roll(a,roll_i-bump_d)[0]))).shape==(1,1):\n",
    "                bump_d+=1\n",
    "                #print('bump_d')\n",
    "                if bump_d<-(indx[1]-indx[0]):\n",
    "                    print('Fail in creating child 2')\n",
    "                    break\n",
    "            d = np.roll(d,roll_i) \n",
    "            d[0] = np.roll(a,roll_i-bump_d)[0]\n",
    "            d = np.roll(d,-roll_i)\n",
    "        return c, d"
   ]
  },
  {
   "cell_type": "markdown",
   "metadata": {},
   "source": [
    "#### c. Cycle crossover"
   ]
  },
  {
   "cell_type": "code",
   "execution_count": 7,
   "metadata": {},
   "outputs": [],
   "source": [
    "import warnings\n",
    "warnings.filterwarnings(\"ignore\", category=DeprecationWarning) \n",
    "def cycle_crossover_pair(a, b):\n",
    "    a = np.array((a));b = np.array((b))\n",
    "    c, d = np.zeros((len(a))), np.zeros((len(a)))\n",
    "    ind_list = []\n",
    "    #function for filling a cycle\n",
    "    def fill_cycle():\n",
    "        for i in range(10):\n",
    "            ind = np.where(a==b[cy_i[i]])[0][0]\n",
    "            if np.array((np.where(cy_i==ind))).shape!=(1,1):\n",
    "                cy_i.append(ind)\n",
    "            else:\n",
    "                if n%2==0:\n",
    "                    c[cy_i] = a[cy_i]\n",
    "                    d[cy_i] = b[cy_i]\n",
    "                else:\n",
    "                    c[cy_i] = b[cy_i]\n",
    "                    d[cy_i] = a[cy_i]\n",
    "                ind_list.extend(cy_i)\n",
    "                break\n",
    "    n = 0         \n",
    "    cond = True\n",
    "    cy_i = [0]\n",
    "    while cond:    \n",
    "        if len(ind_list)>=2:\n",
    "            cy_i = []\n",
    "            #print(ind_lis\n",
    "            if np.array((np.where(np.roll(ind_list,-1 )-ind_list>1))).shape==(1,0):\n",
    "                break\n",
    "            print(np.array((np.where(np.roll(ind_list,-1 )-ind_list>1))).shape)\n",
    "            cy_i.append(np.where(np.roll(ind_list,-1 )-ind_list>1)[0][0]+1)\n",
    "\n",
    "        fill_cycle()\n",
    "        ind_list.sort()\n",
    "        n +=1\n",
    "        if n>10:\n",
    "            break\n",
    "        #think this condition is unnecessary because of if with break above\n",
    "        cond = np.array((np.where(np.roll(ind_list,-1 )-ind_list>1)))!=(1,0)\n",
    "        if np.any(cond):\n",
    "            cond=True\n",
    "    return c, d"
   ]
  },
  {
   "cell_type": "code",
   "execution_count": 8,
   "metadata": {},
   "outputs": [
    {
     "name": "stdout",
     "output_type": "stream",
     "text": [
      "The indexes are: [5 6]\n",
      "Parents: [2, 4, 7, 1, 3, 6, 8, 9, 5] and [5, 9, 8, 6, 2, 4, 1, 3, 7]\n",
      "Children after PMX: [5. 9. 1. 4. 2. 6. 8. 3. 7.] and [2. 6. 7. 8. 3. 4. 1. 9. 5.]\n",
      "Children after Order Crossover: [6. 2. 4. 1. 3. 7. 8. 9. 5.] and [2. 4. 6. 8. 9. 5. 1. 3. 7.]\n",
      "Children after Cycle Crossover: [2. 4. 7. 1. 3. 6. 8. 9. 5.] and [5. 9. 8. 6. 2. 4. 1. 3. 7.]\n"
     ]
    }
   ],
   "source": [
    "a = [2, 4, 7, 1, 3, 6, 8, 9, 5]\n",
    "b = [5, 9, 8, 6, 2, 4, 1, 3, 7]\n",
    "\n",
    "c, d = pmx_pair(a, b)\n",
    "e, f = order_crossover_pair(a, b)\n",
    "g, h = cycle_crossover_pair(a, b)\n",
    "print(f\"Parents: {a} and {b}\")\n",
    "print(f\"Children after PMX: {c} and {d}\")\n",
    "print(f\"Children after Order Crossover: {e} and {f}\")\n",
    "print(f\"Children after Cycle Crossover: {g} and {h}\")"
   ]
  },
  {
   "cell_type": "code",
   "execution_count": null,
   "metadata": {},
   "outputs": [],
   "source": []
  },
  {
   "cell_type": "code",
   "execution_count": null,
   "metadata": {},
   "outputs": [],
   "source": []
  }
 ],
 "metadata": {
  "kernelspec": {
   "display_name": "Python 3",
   "language": "python",
   "name": "python3"
  },
  "language_info": {
   "codemirror_mode": {
    "name": "ipython",
    "version": 3
   },
   "file_extension": ".py",
   "mimetype": "text/x-python",
   "name": "python",
   "nbconvert_exporter": "python",
   "pygments_lexer": "ipython3",
   "version": "3.7.9"
  }
 },
 "nbformat": 4,
 "nbformat_minor": 4
}
