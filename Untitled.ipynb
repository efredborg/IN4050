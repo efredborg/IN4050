{
 "cells": [
  {
   "cell_type": "code",
   "execution_count": 83,
   "id": "2476367a-0efc-4c78-8095-e44ca9aed163",
   "metadata": {},
   "outputs": [],
   "source": [
    "import numpy as np\n",
    "from numpy import newaxis as nax\n",
    "import matplotlib.pyplot as plt\n",
    "import sklearn"
   ]
  },
  {
   "cell_type": "code",
   "execution_count": 84,
   "id": "7e95d914-ef92-45a3-a92d-4e23f11d46c5",
   "metadata": {},
   "outputs": [],
   "source": [
    "def logistic(x):\n",
    "    return 1/(1+np.exp(-x))"
   ]
  },
  {
   "cell_type": "code",
   "execution_count": 85,
   "id": "d5d11166-985f-4517-b4c1-cdc52fea6745",
   "metadata": {},
   "outputs": [],
   "source": [
    "V = np.arange(1,10).reshape([3,3])*0.1\n",
    "W = np.arange(1,5)*0.1\n",
    "eta = 0.1"
   ]
  },
  {
   "cell_type": "code",
   "execution_count": 86,
   "id": "73145c1a-79e1-46bd-89e3-119aab408ddd",
   "metadata": {},
   "outputs": [],
   "source": [
    "x = np.array((1,1,2))  # with bias = 1"
   ]
  },
  {
   "cell_type": "code",
   "execution_count": 87,
   "id": "73b43816-4c66-4993-ad6c-d876accb0441",
   "metadata": {},
   "outputs": [],
   "source": [
    "z = x @ V\n",
    "a = logistic(z)"
   ]
  },
  {
   "cell_type": "code",
   "execution_count": 88,
   "id": "fd68e471-f763-4550-b7e1-e25958f1676f",
   "metadata": {},
   "outputs": [],
   "source": [
    "a_biased = np.concatenate([np.array([1]), a])"
   ]
  },
  {
   "cell_type": "code",
   "execution_count": 89,
   "id": "eef45012-a48f-4ce7-9a1e-797388d2a87c",
   "metadata": {},
   "outputs": [
    {
     "data": {
      "text/plain": [
       "0.9214520744001451"
      ]
     },
     "execution_count": 89,
     "metadata": {},
     "output_type": "execute_result"
    }
   ],
   "source": [
    "out = a_biased @ W\n",
    "out"
   ]
  },
  {
   "cell_type": "markdown",
   "id": "77e334cd-6156-41e5-933d-f66f2646f2c9",
   "metadata": {},
   "source": [
    "### Backpropagation"
   ]
  },
  {
   "cell_type": "code",
   "execution_count": 90,
   "id": "a1a0ad5f-4b04-4d43-b5d0-a76499fd1c1d",
   "metadata": {},
   "outputs": [],
   "source": [
    "target = 10\n",
    "out_error = target - out"
   ]
  },
  {
   "cell_type": "code",
   "execution_count": 91,
   "id": "3ad2bb55-85fd-48fb-a5b6-9ba52f423795",
   "metadata": {},
   "outputs": [],
   "source": [
    "delta_back = W * out_error\n",
    "hidden_deltas = delta_back[1:] * a * (1-a)"
   ]
  },
  {
   "cell_type": "code",
   "execution_count": 92,
   "id": "52bcc5ba-5a69-4a5f-a21a-0c935f7e9c50",
   "metadata": {},
   "outputs": [
    {
     "name": "stdout",
     "output_type": "stream",
     "text": [
      "[1.00785479 0.98973519 1.12512838 1.25068413]\n",
      "[[0.12055025 0.22255644 0.32142817]\n",
      " [0.42055025 0.52255644 0.62142817]\n",
      " [0.7411005  0.84511288 0.94285635]]\n"
     ]
    }
   ],
   "source": [
    "W += eta * out_error * a_biased\n",
    "V += eta*x[:,nax] @ hidden_deltas[nax,:]\n",
    "print(W)\n",
    "print(V)"
   ]
  },
  {
   "cell_type": "code",
   "execution_count": 49,
   "id": "5e164586-3869-448e-b57f-00fa71de357a",
   "metadata": {},
   "outputs": [
    {
     "name": "stdout",
     "output_type": "stream",
     "text": [
      "[1.00785479 0.98973519 1.12512838 1.25068413]\n",
      "[[0.12055025 0.22255644 0.32142817]\n",
      " [0.42055025 0.52255644 0.62142817]\n",
      " [0.7411005  0.84511288 0.94285635]]\n"
     ]
    }
   ],
   "source": [
    "W += eta * out_error * a_biased\n",
    "V += eta*x.reshape([-1,1]) @ hidden_deltas.reshape([1,-1])\n",
    "print(W)\n",
    "print(V)"
   ]
  },
  {
   "cell_type": "code",
   "execution_count": 93,
   "id": "515a7542-6c85-4ce2-a87e-a2161a5c0f1d",
   "metadata": {},
   "outputs": [
    {
     "name": "stdout",
     "output_type": "stream",
     "text": [
      "(3,)\n",
      "(3,)\n"
     ]
    }
   ],
   "source": [
    "print(x.shape)\n",
    "print(hidden_deltas.shape)"
   ]
  },
  {
   "cell_type": "code",
   "execution_count": null,
   "id": "00cd30c1-f325-4d1d-b0d9-4f14b3f26913",
   "metadata": {},
   "outputs": [],
   "source": []
  }
 ],
 "metadata": {
  "kernelspec": {
   "display_name": "Python 3",
   "language": "python",
   "name": "python3"
  },
  "language_info": {
   "codemirror_mode": {
    "name": "ipython",
    "version": 3
   },
   "file_extension": ".py",
   "mimetype": "text/x-python",
   "name": "python",
   "nbconvert_exporter": "python",
   "pygments_lexer": "ipython3",
   "version": "3.8.8"
  }
 },
 "nbformat": 4,
 "nbformat_minor": 5
}
